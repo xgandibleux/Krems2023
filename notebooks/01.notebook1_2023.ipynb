{
 "cells": [
  {
   "cell_type": "markdown",
   "metadata": {},
   "source": [
    "# JuMP (part 1): Exercises"
   ]
  },
  {
   "cell_type": "markdown",
   "metadata": {},
   "source": [
    "### Create optimization models for your business and solve it with JuMP\n",
    "\n",
    "The methodology to follow for problems 1 and 2 is:\n",
    "\n",
    "Formulate the situation given as a linear programming problem (LP or IP or MILP)\n",
    "\n",
    "1. Identify the decision variables\n",
    "2. Write the objective function\n",
    "3. Identify the set of constraints\n",
    "\n",
    "Write the formulated model with JuMP and solve it\n",
    "\n",
    "1. Code the optimisation model into a JuMP model\n",
    "2. Solve the JuMP model with a MILP solver\n",
    "3. Retrieve the results"
   ]
  },
  {
   "cell_type": "markdown",
   "metadata": {},
   "source": [
    "### 1. Problem 1 (a diet problem):\n",
    "\n",
    "A house wife wishes to mix two types of food F1 and F2 in such a way that the\n",
    "vitamin contents of the mixture contain at least 8 units of vitamin A and 11 units of vitamin B. \n",
    "Food F1 costs 60€/Kg and Food F2 costs 80€/kg. Food F1 contains 3 units/kg of vitamin A and 5 units/kg of vitamin B while Food F2 contains 4 units/kg of vitamin A and 2 units/kg of vitamin B.  The goal is to minimize the cost of the mixtures."
   ]
  },
  {
   "cell_type": "code",
   "execution_count": null,
   "metadata": {},
   "outputs": [],
   "source": []
  },
  {
   "cell_type": "markdown",
   "metadata": {},
   "source": [
    "### 2. Problem 2 (a production problem):\n",
    "\n",
    "A store has requested a manufacturer to produce pants and sports jackets. For materials, the manufacturer has $750 m^2$ of cotton textile and $1000 m^2$ of polyester. Every pair of pants (1 unit) needs $1 m^2$ of cotton and $2 m^2$ of polyester. Every jacket needs $1.5 m^2$ of cotton and $1 m^2$ of polyester. The price of the pants is fixed at 50€ and the jacket, 40€. What is the number of pants and jackets that the manufacturer must give to the stores so that these items obtain a maximum sale?"
   ]
  },
  {
   "cell_type": "code",
   "execution_count": null,
   "metadata": {},
   "outputs": [],
   "source": []
  },
  {
   "cell_type": "markdown",
   "metadata": {},
   "source": [
    "### 3. Problem 3 (an investment problem):\n",
    "\n",
    "MetaCorp is considering four investments.\n",
    "Investment 1 will yield a net present value (NPV) of 16000€; investment 2, an NPV of 22000€; investment 3, an NPV of 12000€; and investment 4, an NPV of 8000€. \n",
    "Each investment requires a certain cash outflow at the present time: investment 1, 5000€; investment 2, 7000€; investment 3, 4000€; and investment 4, 3000€.\n",
    "At present, 14000€ is available for investment. Formulate a linear programming problem whose solution will tell MetaCorp how to maximize the NPV obtained from investiments $1-4$.\n",
    "\n",
    "(In *Operations Research, Winston Wayne, 3rd edition, 1318 pages, ITP, 1994*)"
   ]
  },
  {
   "cell_type": "code",
   "execution_count": null,
   "metadata": {},
   "outputs": [],
   "source": []
  },
  {
   "cell_type": "markdown",
   "metadata": {},
   "source": [
    "### 4. Problem 4 (a work-scheduling problem):\n",
    "\n",
    "A post office requires different numbers of full-time employees on different days of the week. The number of full-time employees required on each day is given in the following table :\n",
    "\n",
    "| Days          | Number of full-time employees required |\n",
    "|:--------------|:--------------------------------------:|\n",
    "| 1 = Monday    | 17 | \n",
    "| 2 = Tuesday   | 13 |\n",
    "| 3 = Wednesday | 15 |\n",
    "| 4 = Thursday  | 19 | \n",
    "| 5 = Friday    | 14 |\n",
    "| 6 = Saturday  | 16 |\n",
    "| 7 = Sunday    | 11 |\n",
    "\n",
    "Union rules state that each full-time employee must work five consecutive days and then receive two days off. For example, an employee who works Monday to Friday must be off on Saturday and Sunday. The post office wants to meet its daily requirements using only full-time employees. Formulate an linear programming problem that the post office can use to minimize the number of full-time employees that must be hired.\n",
    "\n",
    "(In *Operations Research, Winston Wayne, 3rd edition, 1318 pages, ITP, 1994*)"
   ]
  },
  {
   "cell_type": "code",
   "execution_count": null,
   "metadata": {},
   "outputs": [],
   "source": []
  },
  {
   "cell_type": "markdown",
   "metadata": {},
   "source": [
    "### 5. Problem 5 (choosing a telephone company):\n",
    "\n",
    "I have been approached by three telephone companies to subscribe to their long distance service in Europe. \n",
    "Orange will charge a flat 16€ per month plus 0.25€ a minute. \n",
    "Mobilus will charge 25€ a month but will reduce the per-minute cost to 0.21€. \n",
    "As for HandyBell, the flat monthly charge is 18€, and the cost per minute is 0.22€. \n",
    "I usually make an average of 200 minutes of long-distance calls a month. Assuming that I do not pay the flat monthly fee unless I make calls and that I can apportion my calls among all three companies as I please, how should I use the three companies to minimize my monthly telephone bill?\n",
    "Formulate an linear programming problem that help to choose a telephone company."
   ]
  },
  {
   "cell_type": "code",
   "execution_count": null,
   "metadata": {},
   "outputs": [],
   "source": []
  }
 ],
 "metadata": {
  "kernelspec": {
   "display_name": "Julia 1.6.1",
   "language": "julia",
   "name": "julia-1.6"
  },
  "language_info": {
   "file_extension": ".jl",
   "mimetype": "application/julia",
   "name": "julia",
   "version": "1.6.1"
  }
 },
 "nbformat": 4,
 "nbformat_minor": 5
}
