{
 "cells": [
  {
   "cell_type": "markdown",
   "metadata": {},
   "source": [
    "# Project: Travelling Salesman Problem (TSP)"
   ]
  },
  {
   "cell_type": "markdown",
   "metadata": {},
   "source": [
    "### The optimisation problem\n",
    "\n",
    "The travelling salesman problem (TSP) asks the following question: \"Given a list of cities and the distances between each pair of cities, what is the shortest possible route that visits each city exactly once and returns to the origin city?\".\n",
    "\n",
    "### Material available\n",
    "- a collection of instances (asymetric TSP)\n",
    "- a parser for the provided instances\n",
    "\n",
    "### Activities\n",
    "- Using the parser provided, load in memory an instance.\n",
    "\n",
    "\n",
    "- Write a greedy algorithm (HEU) based on the nearest neighbor for computing a sub-optimal solution;\n",
    "- Solve a given instance; report the best tour obtained and the CPUtime consumed.\n",
    "\n",
    "\n",
    "- Using the Miller–Tucker–Zemlin (MTZ) formulation, write the corresponding model with JuMP;\n",
    "- Solve a given instance; report the optimal tour obtained and the CPUtime consumed.\n",
    "\n",
    "\n",
    "- Using the Dantzig–Fulkerson–Johnson (DFJ) formulation, write the corresponding model with JuMP;\n",
    "- Solve a given instance; report the optimal tour obtained and the CPUtime consumed.\n",
    "\n",
    "\n",
    "- Write a program which perform a numerical experiment using all instances provided; \n",
    "- Report a textual and graphical synthesis of the results collected. \n",
    "\n",
    "### Didactic example\n",
    "\n",

    "`0 786 549 657 331 559 250`\n",
     "\n",

    "786 0 668 979 593 224 905\n",
    "\n",

    "549 668 0 316 607 472 467\n",
    "\n",

    "657 979 316 0 890 769 400\n",
    "\n",

    "331 593 607 890 0 386 559\n",
    "\n",

    "559 224 472 769 386 0 681\n",
    "\n",

    "250 905 467 400 559 681 0\n",
    "\n",
    "`"
   ]
  },
  {
   "cell_type": "markdown",
   "metadata": {},
   "source": [
    "----"
   ]
  },
  {
   "cell_type": "markdown",
   "metadata": {},
   "source": [
    "# HEU: greedy Heuristic  (🌶)\n",
    "\n",
    "#### Solution obtained for the didactic example :\n",
    "Starting from the city n°1 :\n",
    "\n",
    "`Heuristic solution of TSP according the nearest neighbor :\n",
    "  departure location  = 1\n",
    "  resolution time     = 0.0\n",
    "  length of the TSP   =  2586\n",
    "  sequence of visited locations : \n",
    "    1 -> 7\n",
    "    7 -> 4\n",
    "    4 -> 3\n",
    "    3 -> 6\n",
    "    6 -> 2\n",
    "    2 -> 5\n",
    "    5 -> 1\n",
    "`"
   ]
  },
  {
   "cell_type": "markdown",
   "metadata": {},
   "source": [
    "Produce the program in Julia."
   ]
  },
  {
   "cell_type": "markdown",
   "metadata": {},
   "source": [
    "----"
   ]
  },
  {
   "cell_type": "markdown",
   "metadata": {},
   "source": [
    "# MTZ formulation (🌶)"
   ]
  },
  {
   "cell_type": "markdown",
   "metadata": {},
   "source": [
    "#### The mathematical formulation proposed\n",
    "\n",
    "\n",
    "<img src=\"MTZ.png\" width=\"700\">\n",
    "\n",
    "This first model integrates a notion of time (date $t_j \\ge 0$ when a city is visited, with $j \\in \\{2,\\dots,n\\}$)\n",
    "\n",
    "#### Solution obtained for the didactic example :\n",
    "\n",
    "`Optimal solution of TSP according MTZ :\n",
    "  resolution time     = 0.0013\n",
    "  length of the TSP   = 2575\n",
    "  sequence of visited locations : \n",
    "    1 -> 7\n",
    "    7 -> 4\n",
    "    4 -> 3\n",
    "    3 -> 2\n",
    "    2 -> 6\n",
    "    6 -> 5\n",
    "    5 -> 1\n",
    "`"
   ]
  },
  {
   "cell_type": "markdown",
   "metadata": {},
   "source": [
    "Produce the program in Julia and JuMP."
   ]
  },
  {
   "cell_type": "markdown",
   "metadata": {},
   "source": [
    "----"
   ]
  },
  {
   "cell_type": "markdown",
   "metadata": {},
   "source": [
    "# DFJ formulation (🌶🌶🌶🌶)"
   ]
  },
  {
   "cell_type": "markdown",
   "metadata": {},
   "source": [
    "#### The mathematical formulation proposed\n",
    "\n",
    "<img src=\"DFJ.png\" width=\"700\">\n",
    "\n",
    "This model is solved iteratively. First the linear assignment problem -constraints $(1')$ and $(2')$)- is solved, and while subtours appear in the optimal solution, one additionnal constraint -among $(3')$- is added to eliminate the subtours. The added constraint added has the role of breaking the shortest subtour.\n",
    "\n",
    "#### Solution obtained for the didactic example :\n",
    "\n",
    "`Optimal solution of TSP according DFJ :\n",
    "  resolution time     = 0.0004\n",
    "  length of the TSP   = 2575\n",
    "  sequence of visited locations : \n",
    "    1 -> 7\n",
    "    7 -> 4\n",
    "    4 -> 3\n",
    "    3 -> 2\n",
    "    2 -> 6\n",
    "    6 -> 5\n",
    "    5 -> 1\n",
    "  nbCstAdded : 3\n",
    "    cstSsTour1 : x[4,3] + x[3,4] ≤ 1\n",
    "    cstSsTour2 : x[5,1] + x[1,5] ≤ 1\n",
    "    cstSsTour3 : x[6,2] + x[2,6] ≤ 1\n",
    "`"
   ]
  },
  {
   "cell_type": "markdown",
   "metadata": {},
   "source": [
    "Produce the program in Julia and JuMP."
   ]
  },
  {
   "cell_type": "markdown",
   "metadata": {},
   "source": [
    "-----"
   ]
  },
  {
   "cell_type": "markdown",
   "metadata": {},
   "source": [
    "# The numerical experiment  (🌶🌶)"
   ]
  },
  {
   "cell_type": "markdown",
   "metadata": {},
   "source": [
    "#### The results obtained for the collection of instances provided :"
   ]
  },
  {
   "cell_type": "markdown",
   "metadata": {},
   "source": [
    "`    .   fname | MTZ(d)   MTZ(t) |  DFJ(d)   DFJ(t)  #csts | HEU(d)   HEU(t) \n",
    "  relief10 |    198    0.001 |    198    0.001      2 |    241    0.000\n",
    "  relief20 |    147    0.009 |    147    0.002      1 |    187    0.000\n",
    "  relief30 |    116    0.009 |    116    0.002      0 |    223    0.000\n",
    "  relief40 |    105    0.028 |    105    0.009      2 |    153    0.000\n",
    "  relief50 |    155   42.545 |    155    0.117      9 |    291    0.000\n",
    "  relief60 |    136   17.812 |    136    0.149      8 |    207    0.000\n",
    "  relief70 |     -1   -1.000 |    115    0.208      8 |    216    0.000\n",
    "  relief80 |     -1   -1.000 |     99    0.220      6 |    298    0.000\n",
    "  relief90 |     -1   -1.000 |    118    0.303      5 |    268    0.000\n",
    " relief100 |     -1   -1.000 |    103    0.699     12 |    207    0.000\n",
    " relief110 |     -1   -1.000 |    113    0.138      1 |    279    0.000\n",
    " relief120 |     -1   -1.000 |    103    0.311      3 |    297    0.000\n",
    " relief130 |     -1   -1.000 |    107    0.171      1 |    309    0.000\n",
    " relief140 |     -1   -1.000 |    111    1.960     22 |    337    0.000\n",
    " relief150 |     -1   -1.000 |    100    0.660      7 |    294    0.000\n",
    "`"
   ]
  },
  {
   "cell_type": "markdown",
   "metadata": {},
   "source": [
    "<img src=\"expeRelief.png\" width=\"700\">"
   ]
  },
  {
   "cell_type": "code",
   "execution_count": null,
   "metadata": {},
   "outputs": [],
   "source": []
  }
 ],
 "metadata": {
  "kernelspec": {
   "display_name": "Julia 1.6.1",
   "language": "julia",
   "name": "julia-1.6"
  },
  "language_info": {
   "file_extension": ".jl",
   "mimetype": "application/julia",
   "name": "julia",
   "version": "1.6.1"
  }
 },
 "nbformat": 4,
 "nbformat_minor": 5
}
